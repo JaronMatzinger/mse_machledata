{
 "cells": [
  {
   "cell_type": "markdown",
   "metadata": {},
   "source": [
    "# Introduction to the 🤗 `transformers` library\n",
    "\n",
    "As mentioned in our glorious introduction, we are going to use the [Hugging Face Hub](https://huggingface.co/docs/hub/index) today.\n",
    "Let's start with some numbers. At the time of writing, the Hugging Face Hub is a platform with over 350k models, 75k datasets, and 150k demo apps.\n",
    "Everything is open source and publicly available.\n",
    "\n",
    "Under the hood, the Hugging Face Hub uses git-based repositories. While you can directly interact with Hub repos as you would with any other git repo, we will be using the Hugging Face `transformers` library.\n",
    "\n",
    "Installing the transformers library is as easy as\n",
    "\n",
    "```shell\n",
    "pip install transformers\n",
    "```\n",
    "\n",
    "You also need your favourite deep learning framework (`torch` or `tensorflow`). Today you don't have to worry about dependencies, we've already added everything to the `environment.yaml`.\n",
    "\n",
    "## Pipelines\n",
    "\n",
    "With `transformers`, all (NLP) models are a line away from being used. You can choose between a high- and a low-level API, depending on how you want to use them.\n",
    "On the highest level, there is the `pipeline` function. `pipeline` can be used for most tasks across different modalities. Here are some examples, you can find the complete list in the [`transformers` documentation](https://huggingface.co/docs/transformers/main_classes/pipelines#transformers.pipeline).\n",
    "\n",
    "| Task                      | Description                                                     | Modality           | Pipeline identifier                           |\n",
    "|---------------------------|-----------------------------------------------------------------|--------------------|------------------------------------------------|\n",
    "| Text classification       | assign a label to a given sequence of text                      | NLP                | `pipeline(task=“sentiment-analysis”)`            |\n",
    "| Text generation           | generate text given a prompt                                     | NLP                | `pipeline(task=“text-generation”)`               |\n",
    "| Summarization             | generate a summary of a sequence of text or document             | NLP                | `pipeline(task=“summarization”)`                 |\n",
    "| Image classification      | assign a label to an image                                       | Computer vision    | `pipeline(task=“image-classification”)`          |\n",
    "| Image segmentation        | assign a label to each individual pixel of an image               | Computer vision    | `pipeline(task=“image-segmentation”)`            |\n",
    "| Object detection          | predict the bounding boxes and classes of objects in an image     | Computer vision    | `pipeline(task=“object-detection”)`              |\n",
    "| Audio classification      | assign a label to some audio data                                 | Audio              | `pipeline(task=“audio-classification”)`          |\n",
    "| Automatic speech recognition | transcribe speech into text                                    | Audio              | `pipeline(task=“automatic-speech-recognition”)` |\n",
    "| Visual question answering | answer a question about the image, given an image and a question | Multi-modal        | `pipeline(task=“vqa”)`                           |\n",
    "| Document question answering | answer a question about the document, given a document and a question | Multi-modal    | `pipeline(task=“document-question-answering”)`  |\n",
    "| Image captioning          | generate a caption for a given image                             | Multi-modal        | `pipeline(task=“image-to-text”)`                 |\n",
    "\n",
    "Let's use `sentiment-analysis` as an example."
   ]
  },
  {
   "cell_type": "code",
   "execution_count": null,
   "metadata": {},
   "outputs": [],
   "source": [
    "from transformers import pipeline\n",
    "\n",
    "classifier = pipeline('sentiment-analysis')"
   ]
  },
  {
   "cell_type": "markdown",
   "metadata": {},
   "source": [
    "As you can see, `pipeline` downloads and caches a pretrained model as well as a tokenizer. You can now use the `classifier`:"
   ]
  },
  {
   "cell_type": "code",
   "execution_count": null,
   "metadata": {},
   "outputs": [],
   "source": [
    "classifier(\"I am thrilled to announce that coffee is the best caffeinated drink in the world.\")"
   ]
  },
  {
   "cell_type": "markdown",
   "metadata": {},
   "source": [
    "Let's take a closer look at `classifier`. `classifier.model` will tell you which model the pipeline is using:"
   ]
  },
  {
   "cell_type": "code",
   "execution_count": null,
   "metadata": {},
   "outputs": [],
   "source": [
    "classifier.model"
   ]
  },
  {
   "cell_type": "code",
   "execution_count": null,
   "metadata": {},
   "outputs": [],
   "source": [
    "classifier.model"
   ]
  },
  {
   "cell_type": "markdown",
   "metadata": {},
   "source": [
    "Remember from the previous lab that there are two important concepts: The tokenizer and the model itself. If you need a refresher:\n",
    "\n",
    "Tokenizing a text is splitting it into words or subwords, which then are converted to ids through a look-up table. You can learn more about tokenizers in the [Hugging Face docs](https://huggingface.co/docs/transformers/tokenizer_summary).\n",
    "\n",
    "You can also access a model's the tokenizer:"
   ]
  },
  {
   "cell_type": "code",
   "execution_count": null,
   "metadata": {},
   "outputs": [],
   "source": [
    "classifier.tokenizer"
   ]
  },
  {
   "cell_type": "markdown",
   "metadata": {},
   "source": [
    "Now, what if you want to use a particular model? You can pass an optional `model` parameter to `pipeline`. Let's say you wanted to analyze French text:"
   ]
  },
  {
   "cell_type": "code",
   "execution_count": null,
   "metadata": {},
   "outputs": [],
   "source": [
    "classifier = pipeline('sentiment-analysis', model=\"nlptown/bert-base-multilingual-uncased-sentiment\")"
   ]
  },
  {
   "cell_type": "code",
   "execution_count": null,
   "metadata": {},
   "outputs": [],
   "source": [
    "classifier(\"J'ai le plaisir d'annoncer que le café est la meilleure boisson caféinée au monde.\")"
   ]
  },
  {
   "cell_type": "markdown",
   "metadata": {},
   "source": [
    "Of course, there's no guarantee that the output of different models is the same, and it's best to read the documentation page of a particular model. Speaking of documentation pages, models on the Hugging Face Hub come with what is known as [_Model Card_](https://huggingface.co/docs/hub/model-cards).\n",
    "\n",
    "> Model cards are files that accompany the models and provide handy information. Under the hood, model cards are simple Markdown files with additional metadata. Model cards are essential for discoverability, reproducibility, and sharing! You can find a model card as the README.md file in any model repo. ([docs](https://huggingface.co/docs/hub/model-cards))\n",
    "\n",
    "Had we read [the model card for ` bert-base-multilingual-uncased-sentiment `]https://huggingface.co/nlptown/bert-base-multilingual-uncased-sentiment) beforehand, we would not have been surprised by the return value. It was trained on reviews, no wonder it returns star ratings!\n",
    "\n",
    "## `AutoClass`es\n",
    "\n",
    "As we've learnt last week, for (large) language models to work, we need a _tokenizer_ and the _model_ itself. These two concepts are implemented via the `Tokenizer` and `Model` base classes respectively, which the concrete models and their tokenizers inherit from.\n",
    "\n",
    "Whenever you need a particular model and want more control over it than you get by invoking `pipeline(...)`, you can instantiate it via its class. For instance, for the `nlptown/bert-base-multilingual-uncased-sentiment`:"
   ]
  },
  {
   "cell_type": "code",
   "execution_count": null,
   "metadata": {},
   "outputs": [],
   "source": [
    "from transformers import BertForSequenceClassification\n",
    "from transformers import BertTokenizer\n",
    "\n",
    "# The model...\n",
    "BertForSequenceClassification.from_pretrained(\"nlptown/bert-base-multilingual-uncased-sentiment\")\n"
   ]
  },
  {
   "cell_type": "code",
   "execution_count": null,
   "metadata": {},
   "outputs": [],
   "source": [
    "# ... and its tokenizer\n",
    "BertTokenizer.from_pretrained(\"nlptown/bert-base-multilingual-uncased-sentiment\")"
   ]
  },
  {
   "cell_type": "markdown",
   "metadata": {},
   "source": [
    "This can be very tedious, however. Remember, there are some 350k models on Hugging Face Hub and its not always obvious which model class is the right one for your model. So, how do we overcome this issue?\n",
    "\n",
    "Enter `AutoClasses`: An `AutoClass` is a shortcut that automatically retrieves the architecture of a pretrained model from its name or path. You only need to select the appropriate `AutoClass` for your task and it’s associated preprocessing class.\n",
    "So, again, for `nlptown/bert-base-multilingual-uncased-sentiment`:"
   ]
  },
  {
   "cell_type": "code",
   "execution_count": null,
   "metadata": {},
   "outputs": [],
   "source": [
    "from transformers import AutoModelForSequenceClassification, AutoTokenizer\n",
    "\n",
    "# The model...\n",
    "AutoModelForSequenceClassification.from_pretrained(\"nlptown/bert-base-multilingual-uncased-sentiment\")"
   ]
  },
  {
   "cell_type": "code",
   "execution_count": null,
   "metadata": {},
   "outputs": [],
   "source": [
    "# ... and its tokenizer\n",
    "AutoTokenizer.from_pretrained(\"nlptown/bert-base-multilingual-uncased-sentiment\")"
   ]
  },
  {
   "cell_type": "markdown",
   "metadata": {},
   "source": [
    "Isn't this much more convenient? `AutoClasses` also power `pipeline`!"
   ]
  },
  {
   "cell_type": "code",
   "execution_count": null,
   "metadata": {},
   "outputs": [],
   "source": [
    "classifier = pipeline(\n",
    "    \"sentiment-analysis\",\n",
    "    model=AutoModelForSequenceClassification.from_pretrained(\n",
    "        \"nlptown/bert-base-multilingual-uncased-sentiment\"\n",
    "    ),\n",
    "    tokenizer=AutoTokenizer.from_pretrained(\n",
    "        \"nlptown/bert-base-multilingual-uncased-sentiment\"\n",
    "    ),\n",
    ")"
   ]
  },
  {
   "cell_type": "code",
   "execution_count": null,
   "metadata": {},
   "outputs": [],
   "source": [
    "classifier(\"Sono lieto di annunciare che il caffè è la migliore bevanda a base di caffeina del mondo.\")\n",
    "# ... or so, my Italian is not that good"
   ]
  },
  {
   "cell_type": "markdown",
   "metadata": {},
   "source": [
    "This is everything you need to know about `transformers` for the moment. We will cover optimized inference and training large models later.\n",
    "\n",
    "Now, let's engineer some prompts!\n",
    "\n",
    "## Prompt Engineering 101\n",
    "\n",
    "What is prompt engineering? According to Wikipedia:\n",
    "\n",
    "> Prompt engineering is the process of structuring text that can be interpreted and understood by a generative AI model. A prompt is natural language text describing the task that an AI should perform.\n",
    "\n",
    "In this section, we are going to engineer some prompts to make the LLM answer all our questions. We'll use the \"tiny\" LLM [`Qwen/Qwen2.5-0.5B`](https://huggingface.co/Qwen/Qwen2.5-0.5B)."
   ]
  },
  {
   "cell_type": "code",
   "execution_count": null,
   "metadata": {},
   "outputs": [],
   "source": [
    "qwen = pipeline(\"text-generation\", model=\"Qwen/Qwen2.5-0.5B\", max_new_tokens=100)"
   ]
  },
  {
   "cell_type": "markdown",
   "metadata": {},
   "source": [
    "So, what is the task that qwen should perform for us? Answering questions, of course. Let's describe this task:"
   ]
  },
  {
   "cell_type": "code",
   "execution_count": 24,
   "metadata": {},
   "outputs": [],
   "source": [
    "prompt = \\\n",
    "\"\"\"\n",
    "You are a helpful bot and are answering all questions the human has. \n",
    "You only answer the question and do not provide any additional information. \n",
    "You are not allowed to ask questions.\n",
    "\n",
    "The human asks: \"{question}\"\n",
    "\n",
    "Your answer:\n",
    "\"\"\""
   ]
  },
  {
   "cell_type": "markdown",
   "metadata": {},
   "source": [
    "See the `{question}` template? We can use python's string formatting to fill it in."
   ]
  },
  {
   "cell_type": "code",
   "execution_count": null,
   "metadata": {},
   "outputs": [],
   "source": [
    "print(prompt.format(question=\"What is the meaning of life?\").strip())"
   ]
  },
  {
   "cell_type": "markdown",
   "metadata": {},
   "source": [
    "Let's ask qwen:"
   ]
  },
  {
   "cell_type": "code",
   "execution_count": null,
   "metadata": {},
   "outputs": [],
   "source": [
    "print(qwen(prompt.format(question=\"What is the meaning of life?\").strip())[0]['generated_text'])"
   ]
  },
  {
   "cell_type": "markdown",
   "metadata": {},
   "source": [
    "Your turn: Tune the prompt such that it only answers the question and doesn't write anything beyond it.\n",
    "\n",
    "### Leveraging Prompt Engineering to add context\n",
    "\n",
    "How can we make qwen answer questions about facts? Again, we engineer the prompt!"
   ]
  },
  {
   "cell_type": "code",
   "execution_count": 27,
   "metadata": {},
   "outputs": [],
   "source": [
    "prompt = \\\n",
    "\"\"\"\n",
    "You are a helpful bot and are answering all questions the human has. \n",
    "You only answer the question and do not provide any additional information. \n",
    "You are not allowed to ask questions.\n",
    "\n",
    "You are given the following context:\n",
    "Big Thought's favorite color is blue.\n",
    "\n",
    "\n",
    "The human asks: \"{question}\"\n",
    "\n",
    "Your answer:\n",
    "\"\"\""
   ]
  },
  {
   "cell_type": "code",
   "execution_count": null,
   "metadata": {},
   "outputs": [],
   "source": [
    "print(qwen(prompt.format(question=\"What is Big Thought's favorite color?\").strip())[0]['generated_text'])"
   ]
  },
  {
   "cell_type": "markdown",
   "metadata": {},
   "source": [
    "It is often helpful to format your prompts using JSON-, XML-, or markdown-inspired formatting."
   ]
  },
  {
   "cell_type": "code",
   "execution_count": 29,
   "metadata": {},
   "outputs": [],
   "source": [
    "prompt = \\\n",
    "\"\"\"\n",
    "<INSTRUCTION>\n",
    "You are a helpful bot and are answering all questions the human has. \n",
    "You only answer the question and do not provide any additional information. \n",
    "You are not allowed to ask questions.\n",
    "</INSTRUCTION>\n",
    "\n",
    "<CONTEXT>\n",
    "Big Thought's favorite color is blue.\n",
    "</CONTEXT>\n",
    "\n",
    "<QUESTION>\n",
    "{question}\n",
    "</QUESTION>\n",
    "\n",
    "<ANSWER>\n",
    "\"\"\""
   ]
  },
  {
   "cell_type": "code",
   "execution_count": null,
   "metadata": {},
   "outputs": [],
   "source": [
    "print(qwen(prompt.format(question=\"What is Big Thought's favorite color?\").strip())[0]['generated_text'])"
   ]
  },
  {
   "cell_type": "markdown",
   "metadata": {},
   "source": [
    "This not only helps the model, it also makes it easy for you to parse the output!"
   ]
  },
  {
   "cell_type": "markdown",
   "metadata": {},
   "source": [
    "### Your turn: Prompt engineering a simple chatbot\n",
    "\n",
    "With everything you've learnt so far, you are able to build a simple chatbot.\n",
    "Use the following prompt \"style\":\n",
    "Update the prompt with the previous in- and output every time you query the LLM!\n",
    "\n",
    "_Hint: Hugging Face `transformers` provides you with [helpful utilities](https://huggingface.co/docs/transformers/main/chat_templating) for prompt engineering chat models!_\n",
    "\n",
    "We provide you with a simple ipywidgets-based UI.\n",
    "\n",
    "_Can you prevent Qwen from hallucinating whole conversations?_"
   ]
  },
  {
   "cell_type": "code",
   "execution_count": null,
   "metadata": {},
   "outputs": [],
   "source": [
    "import ipywidgets as widgets\n",
    "from IPython.display import display\n",
    "\n",
    "prompt = \"\"\"\n",
    "<INSTRUCTION>\n",
    "You are a helpful and friendly bot.\n",
    "You provide short and concise answers.\n",
    "You are not allowed to ask questions.\n",
    "You do not hallucinate or provide false information.\n",
    "</INSTRUCTION>\n",
    "\"\"\"\n",
    "\n",
    "\n",
    "def process_message(message: str, prompt: str):\n",
    "    prompt = prompt + f\"<HUMAN>\\n{message}\\n</HUMAN>\\n\\n<BOT>\\n\"\n",
    "    response = qwen(prompt)[0]['generated_text']\n",
    "    response = response.split(\"<BOT>\")[1].strip().split(\"</BOT>\")[0]\n",
    "    return response\n",
    "\n",
    "\n",
    "user_input = widgets.Text(placeholder=\"Type your message here\")\n",
    "send_button = widgets.Button(description=\"Send\")\n",
    "chat_area = widgets.Textarea(disabled=True)\n",
    "\n",
    "\n",
    "def send_message(button):\n",
    "    global prompt\n",
    "    message = user_input.value\n",
    "    chat_area.value = chat_area.value + f\"\\nHuman: {message}\"\n",
    "    response = process_message(message, prompt)\n",
    "    chat_area.value = chat_area.value + f\"\\nBot: {response}\"\n",
    "    user_input.value = \"\"\n",
    "    prompt = prompt + f\"<HUMAN>\\n{message}\\n</HUMAN>\\n\\n<BOT>\\n{response}\\n</BOT>\\n\"\n",
    "    print(prompt)\n",
    "\n",
    "\n",
    "send_button.on_click(send_message)\n",
    "\n",
    "layout = widgets.VBox([chat_area, widgets.HBox([user_input, send_button])])\n",
    "\n",
    "display(layout)"
   ]
  },
  {
   "cell_type": "markdown",
   "metadata": {},
   "source": [
    "If you are interested in LLMs and Prompt Engineering, we highly recommend you to take a closer look at [`langchain`](https://www.langchain.com) and [LlamaIndex](https://www.llamaindex.ai/)!\n",
    "\n",
    "----\n",
    "\n",
    "Now that you have some experience with prompt engineering, it's time to wrap our chatbot (which I assume is working flawlessly at this point ;P) in a more appealing UI. Go back to the Lab02 README to learn about streamlit!"
   ]
  },
  {
   "cell_type": "markdown",
   "metadata": {},
   "source": []
  }
 ],
 "metadata": {
  "kernelspec": {
   "display_name": "mlops-lab-02",
   "language": "python",
   "name": "python3"
  },
  "language_info": {
   "codemirror_mode": {
    "name": "ipython",
    "version": 3
   },
   "file_extension": ".py",
   "mimetype": "text/x-python",
   "name": "python",
   "nbconvert_exporter": "python",
   "pygments_lexer": "ipython3",
   "version": "3.11.11"
  }
 },
 "nbformat": 4,
 "nbformat_minor": 2
}
