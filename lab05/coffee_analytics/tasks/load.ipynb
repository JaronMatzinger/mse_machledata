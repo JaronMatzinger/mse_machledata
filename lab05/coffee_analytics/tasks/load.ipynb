{
 "cells": [
  {
   "cell_type": "code",
   "execution_count": null,
   "id": "168151f2",
   "metadata": {
    "tags": [
     "soorgeon-imports"
    ]
   },
   "outputs": [],
   "source": [
    "import pandas as pd\n",
    "from pathlib import Path\n",
    "import pickle\n",
    "from exported import mean_pooling"
   ]
  },
  {
   "cell_type": "code",
   "execution_count": null,
   "id": "28fdf357",
   "metadata": {
    "tags": [
     "parameters"
    ]
   },
   "outputs": [],
   "source": [
    "upstream = None\n",
    "product = None"
   ]
  },
  {
   "cell_type": "markdown",
   "id": "b0533b18",
   "metadata": {},
   "source": [
    "## Load"
   ]
  },
  {
   "cell_type": "code",
   "execution_count": 2,
   "id": "463f89bc",
   "metadata": {},
   "outputs": [],
   "source": [
    "# CQI data (from web scraping)\n",
    "cqi_df = pd.read_csv('data/cqi_5_23.csv')\n",
    "\n",
    "# Review data (from database)\n",
    "rev_df = pd.read_csv('data/rev_5_23.csv')\n",
    "\n",
    "# Columns that are missing from rev_df. These are the columns that we will be predicting.\n",
    "FEATURE_COLUMNS = [\"Aroma\", \"Flavor\", \"Aftertaste\", \"Acidity\", \"Body\"]\n",
    "MISSING_COLUMNS = [\"Balance\", \"Uniformity\", \"Clean Cup\", \"Sweetness\"]\n",
    "\n",
    "MODEL_NAME = \"TaylorAI/gte-tiny\""
   ]
  },
  {
   "cell_type": "code",
   "execution_count": null,
   "id": "cd7af641",
   "metadata": {
    "tags": [
     "soorgeon-pickle"
    ]
   },
   "outputs": [],
   "source": [
    "Path(product['FEATURE_COLUMNS']).parent.mkdir(exist_ok=True, parents=True)\n",
    "Path(product['FEATURE_COLUMNS']).write_bytes(pickle.dumps(FEATURE_COLUMNS))\n",
    "\n",
    "Path(product['MISSING_COLUMNS']).parent.mkdir(exist_ok=True, parents=True)\n",
    "Path(product['MISSING_COLUMNS']).write_bytes(pickle.dumps(MISSING_COLUMNS))\n",
    "\n",
    "Path(product['MODEL_NAME']).parent.mkdir(exist_ok=True, parents=True)\n",
    "Path(product['MODEL_NAME']).write_bytes(pickle.dumps(MODEL_NAME))\n",
    "\n",
    "Path(product['cqi_df']).parent.mkdir(exist_ok=True, parents=True)\n",
    "Path(product['cqi_df']).write_bytes(pickle.dumps(cqi_df))\n",
    "\n",
    "Path(product['rev_df']).parent.mkdir(exist_ok=True, parents=True)\n",
    "Path(product['rev_df']).write_bytes(pickle.dumps(rev_df))"
   ]
  }
 ],
 "metadata": {
  "kernelspec": {
   "display_name": "Python 3",
   "language": "python",
   "name": "python3"
  }
 },
 "nbformat": 4,
 "nbformat_minor": 5
}