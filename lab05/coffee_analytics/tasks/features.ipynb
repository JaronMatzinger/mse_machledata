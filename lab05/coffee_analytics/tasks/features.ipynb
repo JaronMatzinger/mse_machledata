{
 "cells": [
  {
   "cell_type": "code",
   "execution_count": null,
   "id": "c5b5a1b2",
   "metadata": {
    "tags": [
     "soorgeon-imports"
    ]
   },
   "outputs": [],
   "source": [
    "from pathlib import Path\n",
    "import pickle\n",
    "from exported import mean_pooling"
   ]
  },
  {
   "cell_type": "code",
   "execution_count": null,
   "id": "d4c2a48a",
   "metadata": {
    "tags": [
     "parameters"
    ]
   },
   "outputs": [],
   "source": [
    "upstream = ['load']\n",
    "product = None"
   ]
  },
  {
   "cell_type": "code",
   "execution_count": null,
   "id": "68b268b3",
   "metadata": {
    "tags": [
     "soorgeon-unpickle"
    ]
   },
   "outputs": [],
   "source": [
    "rev_df = pickle.loads(Path(upstream['load']['rev_df']).read_bytes())"
   ]
  },
  {
   "cell_type": "markdown",
   "id": "d0c3288d",
   "metadata": {},
   "source": [
    "## Features"
   ]
  },
  {
   "cell_type": "code",
   "execution_count": 3,
   "id": "4b92abf0",
   "metadata": {},
   "outputs": [
    {
     "data": {
      "text/plain": [
       "Index(['slug', 'all_text', 'rating', 'roaster', 'name', 'location', 'origin',\n",
       "       'roast', 'est_price', 'review_date', 'agtron', 'Aroma', 'Acidity',\n",
       "       'Body', 'Flavor', 'Aftertaste', 'with_milk', 'desc_1', 'desc_2',\n",
       "       'desc_3'],\n",
       "      dtype='object')"
      ]
     },
     "execution_count": 3,
     "metadata": {},
     "output_type": "execute_result"
    }
   ],
   "source": [
    "# Rename columns 'aroma','sour','body','flavor','aftertaste' in Aroma, Acidty, Body, Flavor, Aftertaste\n",
    "rev_df.rename(\n",
    "    columns={\n",
    "        \"aroma\": \"Aroma\",\n",
    "        \"acid\": \"Acidity\",\n",
    "        \"body\": \"Body\",\n",
    "        \"flavor\": \"Flavor\",\n",
    "        \"aftertaste\": \"Aftertaste\",\n",
    "    },\n",
    "    inplace=True,\n",
    ")\n",
    "\n",
    "Path(product['rev_df']).parent.mkdir(exist_ok=True, parents=True)\n",
    "Path(product['rev_df']).write_bytes(pickle.dumps(rev_df))"
   ]
  }
 ],
 "metadata": {
  "kernelspec": {
   "display_name": "Python 3",
   "language": "python",
   "name": "python3"
  }
 },
 "nbformat": 4,
 "nbformat_minor": 5
}
