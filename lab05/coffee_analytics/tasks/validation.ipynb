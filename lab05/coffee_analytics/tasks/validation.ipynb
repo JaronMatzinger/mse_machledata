{
 "cells": [
  {
   "cell_type": "code",
   "execution_count": null,
   "id": "2c9b3408",
   "metadata": {
    "tags": [
     "soorgeon-imports"
    ]
   },
   "outputs": [],
   "source": [
    "from pathlib import Path\n",
    "import pickle\n",
    "from exported import mean_pooling"
   ]
  },
  {
   "cell_type": "code",
   "execution_count": null,
   "id": "6657264d",
   "metadata": {
    "tags": [
     "parameters"
    ]
   },
   "outputs": [],
   "source": [
    "upstream = ['load', 'features', 'training']\n",
    "product = None"
   ]
  },
  {
   "cell_type": "code",
   "execution_count": null,
   "id": "64939e48",
   "metadata": {
    "tags": [
     "soorgeon-unpickle"
    ]
   },
   "outputs": [],
   "source": [
    "rev_df = pickle.loads(Path(upstream['features']['rev_df']).read_bytes())\n",
    "xgb_model = pickle.loads(Path(upstream['training']['xgb_model']).read_bytes())\n",
    "\n",
    "MISSING_COLUMNS = pickle.loads(Path(upstream['load']['MISSING_COLUMNS']).read_bytes())"
   ]
  },
  {
   "cell_type": "markdown",
   "id": "b94c5b5f",
   "metadata": {},
   "source": [
    "## Validation"
   ]
  },
  {
   "cell_type": "code",
   "execution_count": 5,
   "id": "3cba3683",
   "metadata": {},
   "outputs": [],
   "source": [
    "# Predict missing values\n",
    "rev_df[MISSING_COLUMNS] = xgb_model.predict(\n",
    "    rev_df[[\"Aroma\", \"Flavor\", \"Aftertaste\", \"Acidity\", \"Body\"]]\n",
    ")"
   ]
  },
  {
   "cell_type": "code",
   "execution_count": null,
   "id": "98eff7a2",
   "metadata": {
    "tags": [
     "soorgeon-pickle"
    ]
   },
   "outputs": [],
   "source": [
    "Path(product['MISSING_COLUMNS']).parent.mkdir(exist_ok=True, parents=True)\n",
    "Path(product['MISSING_COLUMNS']).write_bytes(pickle.dumps(MISSING_COLUMNS))\n",
    "\n",
    "Path(product['rev_df']).parent.mkdir(exist_ok=True, parents=True)\n",
    "Path(product['rev_df']).write_bytes(pickle.dumps(rev_df))"
   ]
  }
 ],
 "metadata": {
  "kernelspec": {
   "display_name": "Python 3",
   "language": "python",
   "name": "python3"
  }
 },
 "nbformat": 4,
 "nbformat_minor": 5
}
