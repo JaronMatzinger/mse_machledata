{
 "cells": [
  {
   "cell_type": "code",
   "execution_count": null,
   "id": "a6de041f",
   "metadata": {
    "tags": [
     "soorgeon-imports"
    ]
   },
   "outputs": [],
   "source": [
    "import numpy as np\n",
    "from sklearn.model_selection import train_test_split\n",
    "import xgboost as xgb\n",
    "from pathlib import Path\n",
    "import pickle\n",
    "from exported import mean_pooling"
   ]
  },
  {
   "cell_type": "code",
   "execution_count": null,
   "id": "d41375cb",
   "metadata": {
    "tags": [
     "parameters"
    ]
   },
   "outputs": [],
   "source": [
    "upstream = ['embedding', 'load', 'validation']\n",
    "product = None"
   ]
  },
  {
   "cell_type": "code",
   "execution_count": null,
   "id": "bc784130",
   "metadata": {
    "tags": [
     "soorgeon-unpickle"
    ]
   },
   "outputs": [],
   "source": [
    "embeddings_reduced = pickle.loads(Path(upstream['embedding']['embeddings_reduced']).read_bytes())\n",
    "rev_df = pickle.loads(Path(upstream['embedding']['rev_df']).read_bytes())\n",
    "FEATURE_COLUMNS = pickle.loads(Path(upstream['load']['FEATURE_COLUMNS']).read_bytes())\n",
    "MISSING_COLUMNS = pickle.loads(Path(upstream['validation']['MISSING_COLUMNS']).read_bytes())"
   ]
  },
  {
   "cell_type": "markdown",
   "id": "7f5e04b5",
   "metadata": {},
   "source": [
    "## Testing"
   ]
  },
  {
   "cell_type": "code",
   "execution_count": 9,
   "id": "9859b720",
   "metadata": {},
   "outputs": [
    {
     "data": {
      "text/plain": [
       "0.9722471833229065"
      ]
     },
     "execution_count": 9,
     "metadata": {},
     "output_type": "execute_result"
    }
   ],
   "source": [
    "# Predict rating\n",
    "X = np.hstack(\n",
    "    [rev_df[FEATURE_COLUMNS + MISSING_COLUMNS].to_numpy(), embeddings_reduced]\n",
    ")\n",
    "y = rev_df['rating']\n",
    "\n",
    "# Train-test split\n",
    "X_train, X_test, y_train, y_test = train_test_split(X, y, test_size=0.2)\n",
    "\n",
    "# XGBoost\n",
    "xgb_model = xgb.XGBRegressor(objective=\"reg:squarederror\", random_state=42)\n",
    "xgb_model.fit(X_train, y_train)\n",
    "\n",
    "# Evaluate\n",
    "xgb_model.score(X_test, y_test)"
   ]
  },
  {
   "cell_type": "code",
   "execution_count": null,
   "id": "a64a7ae4",
   "metadata": {
    "tags": [
     "soorgeon-pickle"
    ]
   },
   "outputs": [],
   "source": [
    "Path(product['xgb_model']).parent.mkdir(exist_ok=True, parents=True)\n",
    "Path(product['xgb_model']).write_bytes(pickle.dumps(xgb_model))"
   ]
  }
 ],
 "metadata": {
  "kernelspec": {
   "display_name": "Python 3",
   "language": "python",
   "name": "python3"
  }
 },
 "nbformat": 4,
 "nbformat_minor": 5
}