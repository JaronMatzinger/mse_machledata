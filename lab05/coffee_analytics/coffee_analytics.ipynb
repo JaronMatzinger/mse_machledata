{
 "cells": [
  {
   "cell_type": "code",
   "execution_count": null,
   "metadata": {},
   "outputs": [],
   "source": [
    "import pandas as pd\n",
    "import numpy as np\n",
    "from sklearn.decomposition import PCA\n",
    "from sklearn.model_selection import train_test_split\n",
    "from transformers import AutoTokenizer, AutoModel\n",
    "import torch\n",
    "import xgboost as xgb\n"
   ]
  },
  {
   "cell_type": "code",
   "execution_count": null,
   "metadata": {},
   "outputs": [],
   "source": [
    "# CQI data (from web scraping)\n",
    "cqi_df = pd.read_csv('data/cqi_5_23.csv')\n",
    "\n",
    "# Review data (from database)\n",
    "rev_df = pd.read_csv('data/rev_5_23.csv')\n",
    "\n",
    "# Columns that are missing from rev_df. These are the columns that we will be predicting.\n",
    "FEATURE_COLUMNS = [\"Aroma\", \"Flavor\", \"Aftertaste\", \"Acidity\", \"Body\"]\n",
    "MISSING_COLUMNS = [\"Balance\", \"Uniformity\", \"Clean Cup\", \"Sweetness\"]\n",
    "\n",
    "MODEL_NAME = \"TaylorAI/gte-tiny\""
   ]
  },
  {
   "cell_type": "code",
   "execution_count": null,
   "metadata": {},
   "outputs": [],
   "source": [
    "# Rename columns 'aroma','sour','body','flavor','aftertaste' in Aroma, Acidty, Body, Flavor, Aftertaste\n",
    "rev_df.rename(\n",
    "    columns={\n",
    "        \"aroma\": \"Aroma\",\n",
    "        \"acid\": \"Acidity\",\n",
    "        \"body\": \"Body\",\n",
    "        \"flavor\": \"Flavor\",\n",
    "        \"aftertaste\": \"Aftertaste\",\n",
    "    },\n",
    "    inplace=True,\n",
    ")\n",
    "\n",
    "rev_df.columns"
   ]
  },
  {
   "cell_type": "code",
   "execution_count": null,
   "metadata": {},
   "outputs": [],
   "source": [
    "# Predict missing columns\n",
    "X = cqi_df[[\"Aroma\", \"Flavor\", \"Aftertaste\", \"Acidity\", \"Body\"]]\n",
    "y = cqi_df[[\"Balance\", \"Uniformity\", \"Clean Cup\", \"Sweetness\"]]\n",
    "\n",
    "# XGBoost\n",
    "xgb_model = xgb.XGBRegressor(objective=\"reg:squarederror\", random_state=42, multi_strategy=\"one_output_per_tree\")\n",
    "# Look ma, no train-test split!\n",
    "xgb_model.fit(X, y)"
   ]
  },
  {
   "cell_type": "code",
   "execution_count": null,
   "metadata": {},
   "outputs": [],
   "source": [
    "# Predict missing values\n",
    "rev_df[MISSING_COLUMNS] = xgb_model.predict(rev_df[[\"Aroma\", \"Flavor\", \"Aftertaste\", \"Acidity\", \"Body\"]])"
   ]
  },
  {
   "cell_type": "code",
   "execution_count": null,
   "metadata": {},
   "outputs": [],
   "source": [
    "# Embedding model\n",
    "\n",
    "# Mean Pooling - Take attention mask into account for correct averaging\n",
    "def mean_pooling(model_output, attention_mask):\n",
    "    token_embeddings = model_output[0] #First element of model_output contains all token embeddings\n",
    "    input_mask_expanded = attention_mask.unsqueeze(-1).expand(token_embeddings.size()).float()\n",
    "    return torch.sum(token_embeddings * input_mask_expanded, 1) / torch.clamp(input_mask_expanded.sum(1), min=1e-9)\n",
    "\n",
    "tokenizer = AutoTokenizer.from_pretrained(f'{MODEL_NAME}')\n",
    "model = AutoModel.from_pretrained(f'{MODEL_NAME}')\n",
    "\n"
   ]
  },
  {
   "cell_type": "code",
   "execution_count": null,
   "metadata": {},
   "outputs": [],
   "source": [
    "description_columns = ['desc_1', 'desc_2', 'desc_3']\n",
    "embeddings = []\n",
    "for desc_col in description_columns:\n",
    "    rev_df[desc_col] = rev_df[desc_col].fillna('')\n",
    "    encoded_input = tokenizer(rev_df[desc_col].to_list(), padding=True, truncation=True, return_tensors='pt')\n",
    "    with torch.no_grad():\n",
    "        model_output = model(**encoded_input)\n",
    "    embeddings.append(mean_pooling(model_output, encoded_input['attention_mask']))\n",
    "stacked_embeddings = torch.hstack(embeddings).shape\n",
    "embeddings_reduced = PCA(n_components=0.67).fit_transform(stacked_embeddings)\n"
   ]
  },
  {
   "cell_type": "code",
   "execution_count": null,
   "metadata": {},
   "outputs": [],
   "source": [
    "# Combine all features\n",
    "shared_ls = np.hstack([rev_df[FEATURE_COLUMNS+MISSING_COLUMNS].to_numpy(), embeddings_reduced]).shape"
   ]
  },
  {
   "cell_type": "code",
   "execution_count": null,
   "metadata": {},
   "outputs": [],
   "source": [
    "# Predict rating\n",
    "X = np.hstack([rev_df[FEATURE_COLUMNS+MISSING_COLUMNS].to_numpy(), embeddings_reduced])\n",
    "y = rev_df['rating']\n",
    "\n",
    "# Train-test split\n",
    "X_train, X_test, y_train, y_test = train_test_split(X, y, test_size=0.2)\n",
    "\n",
    "# XGBoost\n",
    "xgb_model = xgb.XGBRegressor(objective=\"reg:squarederror\", random_state=42)\n",
    "xgb_model.fit(X_train, y_train)\n",
    "\n",
    "# Evaluate\n",
    "xgb_model.score(X_test, y_test)\n"
   ]
  },
  {
   "cell_type": "code",
   "execution_count": null,
   "metadata": {},
   "outputs": [],
   "source": []
  }
 ],
 "metadata": {
  "kernelspec": {
   "display_name": "mlops-lab-02",
   "language": "python",
   "name": "python3"
  },
  "language_info": {
   "codemirror_mode": {
    "name": "ipython",
    "version": 3
   },
   "file_extension": ".py",
   "mimetype": "text/x-python",
   "name": "python",
   "nbconvert_exporter": "python",
   "pygments_lexer": "ipython3",
   "version": "3.11.0"
  }
 },
 "nbformat": 4,
 "nbformat_minor": 2
}
