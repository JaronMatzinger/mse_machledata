{
 "cells": [
  {
   "cell_type": "markdown",
   "metadata": {},
   "source": [
    "# Tuning a diffusion model\n",
    "\n",
    "In this notebook, you will be training a tiny diffusion model, track the training process with MLflow, and tune the hyperparameters using Ray Tune.\n",
    "\n",
    "## A lightning tour of diffusion models.\n",
    "\n",
    "Surely, you have heard of diffusion models. It's the architecture behind DALL-E, Stable Diffusion and many others.\n",
    "Here we are going to look at a particular class of diffusion models, Denoising Diffusion Probabilistic Models (DDPM).\n",
    "\n",
    "DDPMs aim to generate high-quality samples from a given distribution, typically modeled as an image distribution. These models are based on the idea of denoising a sequence of noisy samples to reach the target distribution. Let's break down the mathematical explanation of DDPM.\n",
    "\n",
    "1. **Foward Diffusion Process:**\n",
    "   DDPM introduces a diffusion process to model the generation of samples. It assumes that the data $x$ evolves over a series of steps from an easily generated distribution to the target distribution. This process is defined by a sequence of transformations:\n",
    "\n",
    "   $$ x_0 \\sim p(x_0) $$\n",
    "   $$ x_t = \\sqrt{1 - \\beta_t} \\cdot x_{t-1} + \\sqrt{\\beta_t} \\cdot \\epsilon_t $$\n",
    "\n",
    "   Here, $x_0$ is sampled from an easily generated distribution (e.g., a Gaussian distribution), and $\\epsilon_t$ is sampled from a fixed distribution (e.g., Gaussian). The parameter $\\beta_t$ controls the step size of the diffusion process.\n",
    "\n",
    "2. **Reverse Diffusion Process:**\n",
    "   At each step of the diffusion process, a noise-corrupted version of the data is obtained. The model is then trained to denoise this corrupted sample and estimate the conditional distribution $p_{\\theta}(x_t | x_{t-1})$. The denoising process is typically modeled using a neural network.\n",
    "\n",
    "   $$ p_{\\theta}(x_t | x_{t-1}) = \\mathcal{N}\\left(x_t; \\mu_{\\theta}(x_{t-1}), \\Sigma_{\\theta}(x_{t-1})\\right) $$\n",
    "\n",
    "   Here, $\\mu_{\\theta}$ and $\\Sigma_{\\theta}$ are functions parameterized by the neural network, which outputs the mean and standard deviation of the conditional distribution.\n",
    "\n",
    "3. **Training Procedure:**\n",
    "   During training, we corrupt input samples and train the model to de-noise the inputs again.\n",
    "\n",
    "4. **Sampling:**\n",
    "   Once the model is trained, sampling from the model involves running the diffusion process forward and denoising at each step to generate high-quality samples.\n",
    "\n",
    "In summary, DDPM combines the diffusion process with a denoising neural network to model complex distributions. The training involves optimizing the model parameters to denoise corrupted samples and generate samples from the target distribution. For an in-depth explanation, we recommend Lilian Weng's blog post [\"What are Diffusion Models?\"](https://lilianweng.github.io/posts/2021-07-11-diffusion-models/) and the huggingface blog post [\"The Annotated Diffusion Model\"](https://huggingface.co/blog/annotated-diffusion).\n",
    "\n",
    "To train a DDPM, we need two components: a noise scheduler (that adds & removes noise) and a (denoising) model."
   ]
  },
  {
   "cell_type": "markdown",
   "metadata": {},
   "source": [
    "### Noise Scheduler\n",
    "\n",
    "DPPMs feature a forward and a backward diffusion process. The noise scheduler implements the steps for both processes, you can find its implementation in the next cell. \n",
    "\n",
    "#### Forward diffusion process\n",
    "\n",
    "In the forward diffusion process, a small amount of (Gaussian) noise is added in $T$ steps. This yields a sequence of noisy samples $x_1, \\dots, x_T$. The step size is controlled by the noise (or variance) schedule $\\{\\beta_t \\in (0, 1)\\}^T_{t=1}$.\n",
    "\n",
    "We will be using a linear noise schedule (the $\\beta$ are linearly spaced). Of course, plenty of other options exist.\n",
    "There's a handy closed-form formula for sampling $x_t$ at any time step, which uses the [reparametrization trick](https://lilianweng.github.io/posts/2018-08-12-vae/#reparameterization-trick): If we define $\\alpha_t = 1 - \\beta_t$ and $\\bar{\\alpha}_t = \\prod_{i=1}^t \\alpha_i$, it turns out that $x_t$ is given by\n",
    "\n",
    "$$\n",
    "\\mathbf{x}_t = \\sqrt{\\bar{\\alpha}_t}\\mathbf{x}_0 + \\sqrt{1 - \\bar{\\alpha}_t}\\boldsymbol{\\epsilon} \\\\\n",
    "$$\n",
    "\n",
    "where $\\epsilon_t$ is some isotropic Gaussian noise. This is implemented in the `add_noise` method.\n",
    "\n",
    "#### Reverse diffusion process\n",
    "\n",
    "We can recreate the original sample $\\mathbf{x}_0$, if we manage to reverse the process and sample from $q(\\mathbf{x}_{t-1}\\vert \\mathbf{x}_t)$. Unfortunately, this is not feasible, so we need to learn some model $p_\\theta$ which runs the _denoising_ or _reverse diffusion process_: \n",
    "\n",
    "$$\n",
    "p_\\theta(\\mathbf{x}_{0:T}) = p(\\mathbf{x}_T) \\prod^T_{t=1} p_\\theta(\\mathbf{x}_{t-1} \\vert \\mathbf{x}_t) \\quad\n",
    "p_\\theta(\\mathbf{x}_{t-1} \\vert \\mathbf{x}_t) = \\mathcal{N}(\\mathbf{x}_{t-1}; \\boldsymbol{\\mu}_\\theta(\\mathbf{x}_t, t), \\boldsymbol{\\Sigma}_\\theta(\\mathbf{x}_t, t))\n",
    "$$\n",
    "\n",
    "The reverse diffusion process becomes tractable when we condition on $\\mathbf{x}_0$ and one can then derive [\"nice\"](https://lilianweng.github.io/posts/2021-07-11-diffusion-models/#nice) equations for the reverse process, but we'll spare you the Gaussian jugglery.\n",
    "\n",
    "#### What really matters\n",
    "\n",
    "The details are not important for our application here. What _is_ important is that we already have three hyperparameters: The number of steps $T$ and the initial and final noise levels $\\beta_1$ and $\\beta_T$."
   ]
  },
  {
   "cell_type": "code",
   "execution_count": 3,
   "metadata": {},
   "outputs": [],
   "source": [
    "import torch\n",
    "\n",
    "\n",
    "class NoiseScheduler:\n",
    "    def __init__(\n",
    "        self, T: int = 100, beta_0: float = 0.0001, beta_T: float = 0.02\n",
    "    ) -> None:\n",
    "        self.T = T\n",
    "        self.betas = torch.linspace(beta_0, beta_T, T)\n",
    "\n",
    "        # Reparametrization trick: alpha_t = 1 - beta_t\n",
    "        self.alphas = 1 - self.betas\n",
    "        # Cumulative product of alphas (the alpha with the bar in the text above).\n",
    "        self.alphas_bar = torch.cumprod(self.alphas, 0)\n",
    "        # Shifted alpha_bar; this is just an implementation trick to avoid using the\n",
    "        # cumprod function at each iteration.\n",
    "        self.alpha_bars_prev = torch.cat([torch.tensor([1.0]), self.alphas_bar[:-1]])\n",
    "\n",
    "        # The coefficients for the forward process.\n",
    "        self.sqrt_alphas_bar = self.alphas_bar**0.5\n",
    "        self.sqrt_one_minus_alphas_bar = (1 - self.alphas_bar) ** 0.5\n",
    "\n",
    "        # The coefficients for the backward process.\n",
    "        self.sqrt_inv_alphas = torch.sqrt(1 / self.alphas)\n",
    "        self.epsilon_coeff = self.betas / torch.sqrt(1 - self.alphas_bar)\n",
    "        self.sigmas = torch.sqrt(\n",
    "            self.betas * (1.0 - self.alpha_bars_prev) / (1.0 - self.alphas_bar)\n",
    "        )\n",
    "\n",
    "    def add_noise(\n",
    "        self, x_0: torch.Tensor, epsilon: torch.Tensor, t: int\n",
    "    ) -> torch.Tensor:\n",
    "        return (\n",
    "            self.sqrt_alphas_bar[t] * x_0 + epsilon * self.sqrt_one_minus_alphas_bar[t]\n",
    "        )\n",
    "\n",
    "    def remove_noise(\n",
    "        self, x_t: torch.Tensor, epsilon: torch.Tensor, t: int\n",
    "    ) -> torch.Tensor:\n",
    "        mu_tilde_t = self.sqrt_inv_alphas[t] * (x_t - self.epsilon_coeff[t] * epsilon)\n",
    "        sigma_t = self.sigmas[t]\n",
    "        z = torch.randn_like(epsilon)\n",
    "        return mu_tilde_t + sigma_t * z\n",
    "\n",
    "    def __len__(self):\n",
    "        return self.T"
   ]
  },
  {
   "cell_type": "markdown",
   "metadata": {},
   "source": [
    "### Denoising model\n",
    "\n",
    "As mentioned above, the denoising model is required to drive reverse process. More sophisticated diffusion models will use elaborate methods to embed time and inputs. Here, we'll use a simple MLP and ignore these intricacies."
   ]
  },
  {
   "cell_type": "code",
   "execution_count": 4,
   "metadata": {},
   "outputs": [],
   "source": [
    "from torch import nn\n",
    "import torch.nn.functional as F\n",
    "\n",
    "class MLP(nn.Module):\n",
    "    def __init__(\n",
    "        self,\n",
    "        input_dim: int = 3,\n",
    "        hidden_dim: int = 64,\n",
    "        output_dim: int = 2,\n",
    "        num_hidden_layers: int = 2,\n",
    "    ):\n",
    "        super().__init__()\n",
    "        self.input_dim = input_dim\n",
    "        self.hidden_dim = hidden_dim\n",
    "        self.output_dim = output_dim\n",
    "        self.num_hidden_layers = num_hidden_layers\n",
    "\n",
    "        self.layers = nn.ModuleList()\n",
    "        self.layers.append(nn.Linear(input_dim, hidden_dim))\n",
    "        for _ in range(num_hidden_layers):\n",
    "            self.layers.append(nn.Linear(hidden_dim, hidden_dim))\n",
    "        self.layers.append(nn.Linear(hidden_dim, output_dim))\n",
    "\n",
    "    def forward(self, x: torch.Tensor, t: int) -> torch.Tensor:\n",
    "        \"\"\"\n",
    "        Args:\n",
    "            x: The (noisy) input sample .\n",
    "            t: The current time step.\n",
    "\n",
    "        Returns:\n",
    "            The de-noised input sample.\n",
    "        \"\"\"\n",
    "        t_tensor = torch.full((x.shape[0], 1), t, dtype=torch.float32)\n",
    "        x = torch.cat((x, t_tensor), dim=-1)\n",
    "        for layer in self.layers[:-1]:\n",
    "            x = F.gelu(layer(x))\n",
    "        return self.layers[-1](x)"
   ]
  },
  {
   "cell_type": "markdown",
   "metadata": {},
   "source": [
    "We can extend our list of hyperparameters with the number of hidden layers and the hidden layer dimension.\n",
    "\n",
    "## Training a diffusion model\n",
    "\n",
    "Now that we have the model, we of course want to train it. For this we need data, and since we are on a tight time and GPU budget, we'll use 2D point clouds - ours has a peculiar shape. 🤔 "
   ]
  },
  {
   "cell_type": "code",
   "execution_count": 5,
   "metadata": {},
   "outputs": [
    {
     "data": {
      "image/png": "[encoded data removed]",
      "text/plain": [
       "<Figure size 640x480 with 1 Axes>"
      ]
     },
     "metadata": {},
     "output_type": "display_data"
    }
   ],
   "source": [
    "import pandas as pd\n",
    "import matplotlib.pyplot as plt\n",
    "\n",
    "zhaw_logo = pd.read_csv(\"data/zhaw_logo.csv\")\n",
    "points = zhaw_logo.assign(y=lambda df: -df.y)\n",
    "points -= points.mean()\n",
    "points /= points.std()\n",
    "points.plot(kind=\"scatter\", x=\"x\", y=\"y\", color=\"black\", s=1).axis(\"equal\")\n",
    "plt.show()"
   ]
  },
  {
   "cell_type": "code",
   "execution_count": 6,
   "metadata": {},
   "outputs": [],
   "source": [
    "from torch.utils.data import TensorDataset \n",
    "dataset = TensorDataset(\n",
    "    torch.tensor(points.values, dtype=torch.float32)\n",
    ")"
   ]
  },
  {
   "cell_type": "markdown",
   "metadata": {},
   "source": [
    "Training works as follows:\n",
    "\n",
    "1. Select a random time step $t$ between $0$ and $T-1$.\n",
    "2. Add noise to the input at $t$.\n",
    "3. Predict the noise using the model.\n",
    "4. Compute the loss.\n",
    "5. Backpropagate the loss.\n",
    "\n",
    "The training loop is implemented in the cell below, but lacks tracking. Add missing code!"
   ]
  },
  {
   "cell_type": "code",
   "execution_count": null,
   "metadata": {},
   "outputs": [
    {
     "name": "stderr",
     "output_type": "stream",
     "text": [
      "2025/03/18 14:45:43 INFO mlflow.tracking.fluent: Experiment with name 'Diffusion_models' does not exist. Creating a new experiment.\n"
     ]
    },
    {
     "data": {
      "application/vnd.jupyter.widget-view+json": {
       "model_id": "13a7b80a21bb4faebf2c6e94adb3fa2a",
       "version_major": 2,
       "version_minor": 0
      },
      "text/plain": [
       "  0%|          | 0/10000 [00:00<?, ?it/s]"
      ]
     },
     "metadata": {},
     "output_type": "display_data"
    },
    {
     "name": "stderr",
     "output_type": "stream",
     "text": [
      "\u001b[31m2025/03/18 14:47:46 WARNING mlflow.models.model: Model logged without a signature and input example. Please set `input_example` parameter when logging the model to auto infer the model signature.\u001b[0m\n"
     ]
    },
    {
     "name": "stdout",
     "output_type": "stream",
     "text": [
      "🏃 View run diffusion_experiment_1 at: http://localhost:8080/#/experiments/337909402145741359/runs/86f347f129814000a95119033c7aa88c\n",
      "🧪 View experiment at: http://localhost:8080/#/experiments/337909402145741359\n"
     ]
    }
   ],
   "source": [
    "from torch.utils.data import DataLoader\n",
    "from tqdm.notebook import trange, tqdm\n",
    "\n",
    "# TODO: Import and set up MLflow\n",
    "import mlflow\n",
    "\n",
    "mlflow.set_tracking_uri(\"http://localhost:8080\")\n",
    "diffusion_experiment = mlflow.set_experiment(\"diffusion_models\")\n",
    "\n",
    "run_name = \"diffusion_experiment_1\"\n",
    "artifact_path = \"diffusion_model\"\n",
    "\n",
    "config = {\n",
    "    \"epochs\": 10000,\n",
    "    \"batch_size\": 4196,\n",
    "    \"learning_rate\": 0.001,\n",
    "    # ... other hyperparameters ...\n",
    "}\n",
    "\n",
    "ddpm = MLP(input_dim=3, hidden_dim=64, output_dim=2, num_hidden_layers=3)\n",
    "noise_schedule = NoiseScheduler(T=10, beta_0=0.0001, beta_T=0.02)\n",
    "\n",
    "dataloader = DataLoader(dataset, batch_size=config[\"batch_size\"], shuffle=True)\n",
    "optimizer = torch.optim.Adam(ddpm.parameters(), lr=config[\"learning_rate\"])\n",
    "criterion = nn.MSELoss()\n",
    "\n",
    "# TODO: Log hyperparameters and metrics with MLflow\n",
    "with mlflow.start_run(run_name=run_name, tags={\"model\": \"Diffusion\"}) as run:\n",
    "    mlflow.log_params(config)\n",
    "\n",
    "    with tqdm(total=config[\"epochs\"]) as progress_bar:\n",
    "        for epoch in range(config[\"epochs\"]):\n",
    "            ddpm.train()\n",
    "            train_loss = 0\n",
    "            for batch in dataloader:\n",
    "                batch = batch[0]\n",
    "\n",
    "                # Select a random time step\n",
    "                t = torch.randint(low=0, high=len(noise_schedule), size=(1,)).item()\n",
    "\n",
    "                # Add noise to the batch\n",
    "                epsilon_target = torch.randn(batch.shape)\n",
    "                x_t_plus_1 = noise_schedule.add_noise(batch, epsilon_target, t)\n",
    "\n",
    "                # Predict the noise\n",
    "                epsilon_pred = ddpm(x_t_plus_1, t)\n",
    "\n",
    "                # Compute the loss: the difference between the predicted noise and the target noise\n",
    "                loss = criterion(epsilon_pred, epsilon_target)\n",
    "\n",
    "                # Backpropagation\n",
    "                optimizer.zero_grad()\n",
    "                loss.backward()\n",
    "                optimizer.step()\n",
    "                train_loss += loss.item()\n",
    "            \n",
    "            train_loss /= len(dataloader)\n",
    "            # TODO: Log the loss with MLflow\n",
    "            mlflow.log_metric('loss', train_loss, step=epoch)\n",
    "            \n",
    "            progress_bar.set_postfix({\"loss\": f\"{train_loss:.4f}\"})\n",
    "            progress_bar.update(1)\n",
    "\n",
    "    # TODO: Log the model and final loss with MLflow\n",
    "    mlflow.pytorch.log_model(ddpm, artifact_path=artifact_path)"
   ]
  },
  {
   "cell_type": "markdown",
   "metadata": {},
   "source": [
    "In the next cell, we sample the DDPM. BY moving the slider, you can step through the de-noising process."
   ]
  },
  {
   "cell_type": "code",
   "execution_count": null,
   "metadata": {},
   "outputs": [],
   "source": [
    "import ipywidgets as widgets\n",
    "import matplotlib.pyplot as plt\n",
    "\n",
    "x_last = torch.randn(5000, 2)\n",
    "samples = [x_last]\n",
    "for t in reversed(range(len(noise_schedule))):\n",
    "    with torch.no_grad():\n",
    "        residual = ddpm(samples[-1], t)\n",
    "    samples.append(noise_schedule.remove_noise(samples[-1], residual, t))\n",
    "\n",
    "def update_plot(t, show_line):\n",
    "    plt.clf()\n",
    "    plt.scatter(samples[t][:, 0], samples[t][:, 1], color='#0064a6', s=1)\n",
    "    if show_line:\n",
    "        plt.scatter(points['x'], points['y'], color='black', s=1)\n",
    "    plt.axis('equal')\n",
    "    plt.show()\n",
    "\n",
    "slider = widgets.IntSlider(min=0, max=len(samples)-1, step=1, value=0)\n",
    "toggle_button = widgets.ToggleButton(value=False, description='Show ground truth')\n",
    "widgets.interact(update_plot, t=slider, show_line=toggle_button)"
   ]
  },
  {
   "cell_type": "markdown",
   "metadata": {},
   "source": [
    "As you can see, our approach works, but it the model is not perfect yet. To improve on our first model, let's tune some hyperparameters. Below, you can find the template from the previous notebook on Ray Tune. Your tasks are the following:\n",
    "\n",
    "[Evaluating](https://huggingface.co/docs/diffusers/conceptual/evaluation) generative models is challenging. Here, we refrain from implementing any sophisticated method and instead ask you to implement the following: compute summary statistics (mean in $x$, mean in $y$, standard deviation in $x$, standard deviation in $y$) and aim for a model that reproduces the ones from the training data. As the training data is normalized, the means are both 0 and the standard deviations are 1.\n",
    "\n",
    "1. Implement the trainable by copying the training loop from above. Instead of logging directly to MLflow, use the MLflow logger introduced earlier. \n",
    "2. Select a range of hyperparameters to tune. Some good candidates are the learning rate, $T$, $\\beta_0$, $\\beta_T$, and the parameters of the MLP. Define your `search_space`.\n",
    "3. Select a search algorithm and optionally a scheduler. We tested `HEBO`, but you are free to choose.\n",
    "\n",
    "Enjoy! :D"
   ]
  },
  {
   "cell_type": "code",
   "execution_count": 19,
   "metadata": {},
   "outputs": [],
   "source": [
    "from ray.air.integrations.mlflow import MLflowLoggerCallback\n",
    "\n",
    "run_config_with_callback = train.RunConfig(\n",
    "    name=\"MLFlow logging experiment\",\n",
    "    callbacks=[MLflowLoggerCallback(\n",
    "        tracking_uri=\"http://localhost:8080\",\n",
    "        experiment_name=\"diffusion-ray-tune-experiments\",\n",
    "        save_artifact=True\n",
    "    )],\n",
    ")"
   ]
  },
  {
   "cell_type": "code",
   "execution_count": 20,
   "metadata": {},
   "outputs": [
    {
     "data": {
      "text/html": [
       "<div class=\"tuneStatus\">\n",
       "  <div style=\"display: flex;flex-direction: row\">\n",
       "    <div style=\"display: flex;flex-direction: column;\">\n",
       "      <h3>Tune Status</h3>\n",
       "      <table>\n",
       "<tbody>\n",
       "<tr><td>Current time:</td><td>2025-03-19 09:12:26</td></tr>\n",
       "<tr><td>Running for: </td><td>00:00:30.46        </td></tr>\n",
       "<tr><td>Memory:      </td><td>11.1/16.0 GiB      </td></tr>\n",
       "</tbody>\n",
       "</table>\n",
       "    </div>\n",
       "    <div class=\"vDivider\"></div>\n",
       "    <div class=\"systemInfo\">\n",
       "      <h3>System Info</h3>\n",
       "      Using AsyncHyperBand: num_stopped=10<br>Bracket: Iter 64.000: -0.5054484307765961 | Iter 16.000: -0.9180592894554138 | Iter 4.000: -1.0498736202716827 | Iter 1.000: -0.985795795917511<br>Logical resource usage: 1.0/8 CPUs, 0/0 GPUs\n",
       "    </div>\n",
       "    \n",
       "  </div>\n",
       "  <div class=\"hDivider\"></div>\n",
       "  <div class=\"trialStatus\">\n",
       "    <h3>Trial Status</h3>\n",
       "    <table>\n",
       "<thead>\n",
       "<tr><th>Trial name        </th><th>status    </th><th>loc            </th><th style=\"text-align: right;\">  T</th><th style=\"text-align: right;\">  batch_size</th><th style=\"text-align: right;\">  beta_0</th><th style=\"text-align: right;\">  beta_T</th><th style=\"text-align: right;\">   lr</th><th style=\"text-align: right;\">  iter</th><th style=\"text-align: right;\">  total time (s)</th><th style=\"text-align: right;\">  Epoch</th><th style=\"text-align: right;\">  avg_loss</th><th style=\"text-align: right;\">     mean_x</th></tr>\n",
       "</thead>\n",
       "<tbody>\n",
       "<tr><td>trainable_d3df796a</td><td>TERMINATED</td><td>127.0.0.1:22021</td><td style=\"text-align: right;\"> 75</td><td style=\"text-align: right;\">        2048</td><td style=\"text-align: right;\">  0.001 </td><td style=\"text-align: right;\">    0.2 </td><td style=\"text-align: right;\">0.01 </td><td style=\"text-align: right;\">   100</td><td style=\"text-align: right;\">        1.2408  </td><td style=\"text-align: right;\">    100</td><td style=\"text-align: right;\">  0.600125</td><td style=\"text-align: right;\"> 0.194032  </td></tr>\n",
       "<tr><td>trainable_2cc2c47a</td><td>TERMINATED</td><td>127.0.0.1:22033</td><td style=\"text-align: right;\"> 25</td><td style=\"text-align: right;\">         512</td><td style=\"text-align: right;\">  0.0001</td><td style=\"text-align: right;\">    0.02</td><td style=\"text-align: right;\">0.01 </td><td style=\"text-align: right;\">     1</td><td style=\"text-align: right;\">        0.673482</td><td style=\"text-align: right;\">      1</td><td style=\"text-align: right;\">  1.29908 </td><td style=\"text-align: right;\">-0.00276941</td></tr>\n",
       "<tr><td>trainable_db070484</td><td>TERMINATED</td><td>127.0.0.1:22045</td><td style=\"text-align: right;\">100</td><td style=\"text-align: right;\">        1024</td><td style=\"text-align: right;\">  0.001 </td><td style=\"text-align: right;\">    0.02</td><td style=\"text-align: right;\">0.1  </td><td style=\"text-align: right;\">     1</td><td style=\"text-align: right;\">        0.566144</td><td style=\"text-align: right;\">      1</td><td style=\"text-align: right;\">  2.48422 </td><td style=\"text-align: right;\">-2.02773   </td></tr>\n",
       "<tr><td>trainable_bafdca48</td><td>TERMINATED</td><td>127.0.0.1:22058</td><td style=\"text-align: right;\"> 50</td><td style=\"text-align: right;\">        4096</td><td style=\"text-align: right;\">  0.0001</td><td style=\"text-align: right;\">    0.2 </td><td style=\"text-align: right;\">0.001</td><td style=\"text-align: right;\">   100</td><td style=\"text-align: right;\">        0.995171</td><td style=\"text-align: right;\">    100</td><td style=\"text-align: right;\">  0.877642</td><td style=\"text-align: right;\"> 0.00440449</td></tr>\n",
       "<tr><td>trainable_f7885782</td><td>TERMINATED</td><td>127.0.0.1:22070</td><td style=\"text-align: right;\"> 50</td><td style=\"text-align: right;\">        4096</td><td style=\"text-align: right;\">  0.0001</td><td style=\"text-align: right;\">    0.2 </td><td style=\"text-align: right;\">0.1  </td><td style=\"text-align: right;\">     4</td><td style=\"text-align: right;\">        0.601646</td><td style=\"text-align: right;\">      4</td><td style=\"text-align: right;\"> 21.9393  </td><td style=\"text-align: right;\"> 2.32205   </td></tr>\n",
       "<tr><td>trainable_8ee14a4e</td><td>TERMINATED</td><td>127.0.0.1:22082</td><td style=\"text-align: right;\"> 75</td><td style=\"text-align: right;\">        1024</td><td style=\"text-align: right;\">  0.001 </td><td style=\"text-align: right;\">    0.02</td><td style=\"text-align: right;\">0.001</td><td style=\"text-align: right;\">    16</td><td style=\"text-align: right;\">        0.639215</td><td style=\"text-align: right;\">     16</td><td style=\"text-align: right;\">  1.07359 </td><td style=\"text-align: right;\">-0.0384613 </td></tr>\n",
       "<tr><td>trainable_6f8ea756</td><td>TERMINATED</td><td>127.0.0.1:22103</td><td style=\"text-align: right;\"> 50</td><td style=\"text-align: right;\">        1024</td><td style=\"text-align: right;\">  0.0001</td><td style=\"text-align: right;\">    0.02</td><td style=\"text-align: right;\">0.01 </td><td style=\"text-align: right;\">     1</td><td style=\"text-align: right;\">        0.567031</td><td style=\"text-align: right;\">      1</td><td style=\"text-align: right;\">  1.13544 </td><td style=\"text-align: right;\">-0.0992169 </td></tr>\n",
       "<tr><td>trainable_b2393dc4</td><td>TERMINATED</td><td>127.0.0.1:22116</td><td style=\"text-align: right;\">100</td><td style=\"text-align: right;\">        2048</td><td style=\"text-align: right;\">  0.001 </td><td style=\"text-align: right;\">    0.2 </td><td style=\"text-align: right;\">0.01 </td><td style=\"text-align: right;\">     1</td><td style=\"text-align: right;\">        0.540308</td><td style=\"text-align: right;\">      1</td><td style=\"text-align: right;\">  1.26511 </td><td style=\"text-align: right;\"> 0.00309263</td></tr>\n",
       "<tr><td>trainable_9a41325d</td><td>TERMINATED</td><td>127.0.0.1:22181</td><td style=\"text-align: right;\"> 25</td><td style=\"text-align: right;\">        4096</td><td style=\"text-align: right;\">  0.001 </td><td style=\"text-align: right;\">    0.2 </td><td style=\"text-align: right;\">0.1  </td><td style=\"text-align: right;\">     4</td><td style=\"text-align: right;\">        0.574192</td><td style=\"text-align: right;\">      4</td><td style=\"text-align: right;\">  3.95897 </td><td style=\"text-align: right;\"> 1.55592   </td></tr>\n",
       "<tr><td>trainable_4768e506</td><td>TERMINATED</td><td>127.0.0.1:22200</td><td style=\"text-align: right;\"> 50</td><td style=\"text-align: right;\">        4096</td><td style=\"text-align: right;\">  0.001 </td><td style=\"text-align: right;\">    0.02</td><td style=\"text-align: right;\">0.001</td><td style=\"text-align: right;\">     1</td><td style=\"text-align: right;\">        0.52976 </td><td style=\"text-align: right;\">      1</td><td style=\"text-align: right;\">  1.07703 </td><td style=\"text-align: right;\"> 0.157114  </td></tr>\n",
       "</tbody>\n",
       "</table>\n",
       "  </div>\n",
       "</div>\n",
       "<style>\n",
       ".tuneStatus {\n",
       "  color: var(--jp-ui-font-color1);\n",
       "}\n",
       ".tuneStatus .systemInfo {\n",
       "  display: flex;\n",
       "  flex-direction: column;\n",
       "}\n",
       ".tuneStatus td {\n",
       "  white-space: nowrap;\n",
       "}\n",
       ".tuneStatus .trialStatus {\n",
       "  display: flex;\n",
       "  flex-direction: column;\n",
       "}\n",
       ".tuneStatus h3 {\n",
       "  font-weight: bold;\n",
       "}\n",
       ".tuneStatus .hDivider {\n",
       "  border-bottom-width: var(--jp-border-width);\n",
       "  border-bottom-color: var(--jp-border-color0);\n",
       "  border-bottom-style: solid;\n",
       "}\n",
       ".tuneStatus .vDivider {\n",
       "  border-left-width: var(--jp-border-width);\n",
       "  border-left-color: var(--jp-border-color0);\n",
       "  border-left-style: solid;\n",
       "  margin: 0.5em 1em 0.5em 1em;\n",
       "}\n",
       "</style>\n"
      ],
      "text/plain": [
       "<IPython.core.display.HTML object>"
      ]
     },
     "metadata": {},
     "output_type": "display_data"
    },
    {
     "name": "stderr",
     "output_type": "stream",
     "text": [
      "2025-03-19 09:12:26,645\tINFO tune.py:1009 -- Wrote the latest version of all result files and experiment state to '/Users/jaron/ray_results/trainable_2025-03-19_09-11-56' in 0.0174s.\n",
      "2025-03-19 09:12:26,648\tINFO tune.py:1041 -- Total run time: 30.48 seconds (30.44 seconds for the tuning loop).\n"
     ]
    }
   ],
   "source": [
    "import torch\n",
    "import torch.nn as nn\n",
    "from torch.utils.data import DataLoader\n",
    "from ray import tune, train\n",
    "from ray.tune.search.hebo import HEBOSearch\n",
    "from tqdm import tqdm\n",
    "\n",
    "def compute_stats(output):\n",
    "    \"\"\"Compute mean and standard deviation of the model's output.\"\"\"\n",
    "    mean_x = output[:, 0].detach().numpy().mean()\n",
    "    mean_y = output[:, 1].detach().numpy().mean()\n",
    "    std_x = output[:, 0].detach().numpy().std()\n",
    "    std_y = output[:, 1].detach().numpy().std()\n",
    "    return mean_x, mean_y, std_x, std_y\n",
    "\n",
    "def trainable(config):\n",
    "    # Initialize model and noise scheduler\n",
    "    ddpm = MLP(input_dim=3, hidden_dim=64, output_dim=2, num_hidden_layers=3)\n",
    "    noise_schedule = NoiseScheduler(T=config['T'], beta_0=config['beta_0'], beta_T=config['beta_T'])\n",
    "\n",
    "    # Prepare dataset\n",
    "    dataloader = DataLoader(dataset, batch_size=config['batch_size'], shuffle=True)\n",
    "\n",
    "    # Define optimizer and loss function\n",
    "    optimizer = torch.optim.Adam(ddpm.parameters(), lr=config['lr'])\n",
    "    criterion = nn.MSELoss()\n",
    "\n",
    "    # Training loop\n",
    "    with tqdm(total=config[\"epochs\"], desc=\"Training Progress\") as progress_bar:\n",
    "        for epoch in range(config[\"epochs\"]):\n",
    "            ddpm.train()\n",
    "            train_loss = 0\n",
    "            mean_x, mean_y, std_x, std_y = 0, 0, 0, 0\n",
    "\n",
    "            for batch in dataloader:\n",
    "                batch = batch[0]\n",
    "\n",
    "                # Sample a random time step\n",
    "                t = torch.randint(low=0, high=len(noise_schedule), size=(1,)).item()\n",
    "\n",
    "                # Add noise to the input\n",
    "                epsilon_target = torch.randn(batch.shape)\n",
    "                x_t_plus_1 = noise_schedule.add_noise(batch, epsilon_target, t)\n",
    "\n",
    "                # Predict noise\n",
    "                epsilon_pred = ddpm(x_t_plus_1, t)\n",
    "\n",
    "                # Compute the loss: the difference between the predicted noise and the target noise\n",
    "                loss = criterion(epsilon_pred, epsilon_target)\n",
    "\n",
    "                # Backpropagation\n",
    "                optimizer.zero_grad()\n",
    "                loss.backward()\n",
    "                optimizer.step()\n",
    "\n",
    "                # Get the train loss\n",
    "                train_loss += loss.item()\n",
    "\n",
    "                # Compute summary statistics\n",
    "                mean_x, mean_y, std_x, std_y = compute_stats(epsilon_pred)\n",
    "                for metric in [mean_x, mean_y, std_x, std_y]:\n",
    "                    metric += metric\n",
    "            \n",
    "            # Compute average loss per epoch\n",
    "            avg_loss = train_loss / len(dataloader)\n",
    "\n",
    "            # Compute mean and std of x and y per epoch\n",
    "            for metric in [mean_x, mean_y, std_x, std_y]:\n",
    "                metric /= len(dataloader)\n",
    "\n",
    "            train.report({\"Epoch\": epoch+1, \"avg_loss\": avg_loss, \"mean_x\": mean_x, \"mean_y\": mean_y, \"std_x\": std_x, \"std_y\": std_y})\n",
    "            progress_bar.set_description(f'Epoch {epoch+1} | Loss: {avg_loss:.4f} | Mean of X: {mean_x:.4f} | Mean of Y: {mean_y:.4f} | Std. of X: {std_x:.4f} | Std. of Y: {std_y:.4f}')\n",
    "            progress_bar.update(1)\n",
    "            \n",
    "    return avg_loss\n",
    "\n",
    "search_space = {\n",
    "    'epochs': 10000,\n",
    "    'batch_size': tune.choice([512, 1024, 2048, 4096]),\n",
    "    'lr': tune.choice([0.001, 0.01, 0.1]),\n",
    "    'T': tune.choice([25, 50, 75, 100]),\n",
    "    'beta_0': tune.choice([0.0001, 0.001]),\n",
    "    'beta_T': tune.choice([0.02, 0.2])\n",
    "}\n",
    "\n",
    "algo = HEBOSearch()\n",
    "scheduler = tune.schedulers.ASHAScheduler()\n",
    "\n",
    "tune_config = tune.TuneConfig(\n",
    "    metric='avg_loss',\n",
    "    mode=\"min\",\n",
    "    search_alg=algo,\n",
    "    scheduler=scheduler,\n",
    "    num_samples=10,\n",
    ")\n",
    "\n",
    "run_config = train.RunConfig()\n",
    "\n",
    "tuner = tune.Tuner(\n",
    "    trainable=trainable,\n",
    "    tune_config=tune_config,\n",
    "    run_config=run_config,\n",
    "    param_space=search_space,\n",
    ")\n",
    "\n",
    "results = tuner.fit()"
   ]
  },
  {
   "cell_type": "code",
   "execution_count": 16,
   "metadata": {},
   "outputs": [
    {
     "data": {
      "text/plain": [
       "Result(\n",
       "  metrics={'Epoch': 100, 'avg_loss': 0.2534799948334694, 'mean_x': 0.21555567, 'mean_y': 0.103880174, 'std_x': 0.9596064, 'std_y': 0.9374113},\n",
       "  path='/Users/jaron/ray_results/trainable_2025-03-19_09-08-38/trainable_52604d6c_2_T=25,batch_size=1024,beta_0=0.0010,beta_T=0.2000,epochs=100,lr=0.0010_2025-03-19_09-08-40',\n",
       "  filesystem='local',\n",
       "  checkpoint=None\n",
       ")"
      ]
     },
     "execution_count": 16,
     "metadata": {},
     "output_type": "execute_result"
    }
   ],
   "source": [
    "results.get_best_result()"
   ]
  },
  {
   "cell_type": "code",
   "execution_count": 17,
   "metadata": {},
   "outputs": [
    {
     "data": {
      "text/plain": [
       "{'epochs': 100,\n",
       " 'batch_size': 1024,\n",
       " 'lr': 0.001,\n",
       " 'T': 25,\n",
       " 'beta_0': 0.001,\n",
       " 'beta_T': 0.2}"
      ]
     },
     "execution_count": 17,
     "metadata": {},
     "output_type": "execute_result"
    }
   ],
   "source": [
    "results.get_best_result().config"
   ]
  },
  {
   "cell_type": "code",
   "execution_count": null,
   "metadata": {},
   "outputs": [],
   "source": []
  }
 ],
 "metadata": {
  "kernelspec": {
   "display_name": "mlops-lab-03",
   "language": "python",
   "name": "python3"
  },
  "language_info": {
   "codemirror_mode": {
    "name": "ipython",
    "version": 3
   },
   "file_extension": ".py",
   "mimetype": "text/x-python",
   "name": "python",
   "nbconvert_exporter": "python",
   "pygments_lexer": "ipython3",
   "version": "3.11.11"
  }
 },
 "nbformat": 4,
 "nbformat_minor": 2
}
